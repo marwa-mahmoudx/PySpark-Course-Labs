{
 "cells": [
  {
   "cell_type": "code",
   "execution_count": 1,
   "id": "60f97978",
   "metadata": {},
   "outputs": [],
   "source": [
    "import pyspark\n",
    "from pyspark.sql import SparkSession\n",
    "spark = SparkSession.builder.getOrCreate()"
   ]
  },
  {
   "cell_type": "code",
   "execution_count": 2,
   "id": "201cee8c",
   "metadata": {},
   "outputs": [
    {
     "data": {
      "text/html": [
       "<style>pre { white-space: pre !important; }</style>"
      ],
      "text/plain": [
       "<IPython.core.display.HTML object>"
      ]
     },
     "metadata": {},
     "output_type": "display_data"
    }
   ],
   "source": [
    "from IPython.display import display, HTML\n",
    "display(HTML(\"<style>pre { white-space: pre !important; }</style>\"))"
   ]
  },
  {
   "cell_type": "markdown",
   "id": "efac8040",
   "metadata": {},
   "source": [
    "### Create the schema of the streamed files (check the column names and types from the CSV files)"
   ]
  },
  {
   "cell_type": "code",
   "execution_count": 3,
   "id": "f9784f3e-5fbf-4eb9-a40f-872edfc33aa2",
   "metadata": {},
   "outputs": [
    {
     "name": "stdout",
     "output_type": "stream",
     "text": [
      "root\n",
      " |-- _c0: integer (nullable = true)\n",
      " |-- Date: date (nullable = true)\n",
      " |-- Open: double (nullable = true)\n",
      " |-- High: double (nullable = true)\n",
      " |-- Low: double (nullable = true)\n",
      " |-- Close: double (nullable = true)\n",
      " |-- Adj Close: double (nullable = true)\n",
      " |-- Volume: integer (nullable = true)\n",
      "\n"
     ]
    }
   ],
   "source": [
    "#to discover the schema and data types before streaming\n",
    "df_test = spark.read.csv('KOSPI_STOCK_0.csv',header=True,inferSchema=True)  \n",
    "df_test.printSchema()"
   ]
  },
  {
   "cell_type": "code",
   "execution_count": 4,
   "id": "c4674d5d",
   "metadata": {},
   "outputs": [],
   "source": [
    "from pyspark.sql.types import (StructType, StructField,\n",
    "                               StringType, IntegerType,\n",
    "                               DoubleType)\n",
    "\n",
    "\n",
    "recordSchema = StructType([\n",
    "    StructField('', StringType(), True),  \n",
    "    StructField('Date', StringType(), True),\n",
    "    StructField('Open', DoubleType(), True),\n",
    "    StructField('High', DoubleType(), True),\n",
    "    StructField('Low', DoubleType(), True),\n",
    "    StructField('Close', DoubleType(), True),\n",
    "    StructField('Adj Close', DoubleType(), True),\n",
    "    StructField('Volume', IntegerType(), True)\n",
    "])"
   ]
  },
  {
   "cell_type": "markdown",
   "id": "4f50fbeb",
   "metadata": {},
   "source": [
    "### Create the dataframe by reading the stream using format \"csv\" and the schema you created."
   ]
  },
  {
   "cell_type": "code",
   "execution_count": 5,
   "id": "d77671b2",
   "metadata": {},
   "outputs": [],
   "source": [
    "df_0 = spark.readStream.format(\"csv\") \\\n",
    "    .schema(recordSchema) \\\n",
    "    .option(\"header\", True) \\\n",
    "    .load(\"kospi/\")"
   ]
  },
  {
   "cell_type": "code",
   "execution_count": 6,
   "id": "8a56c292-bc02-4ae8-8d9c-444698ce7f31",
   "metadata": {},
   "outputs": [],
   "source": [
    "df = df_0.toDF(\"ID\", \"Date\", \"Open\", \"High\", \"Low\", \"Close\", \"Adj Close\", \"Volume\")"
   ]
  },
  {
   "cell_type": "markdown",
   "id": "ce1e0e44",
   "metadata": {},
   "source": [
    "### Make sure the dataframe is streaming the files from the folder"
   ]
  },
  {
   "cell_type": "code",
   "execution_count": 7,
   "id": "1ce00bef-3bb6-456b-b384-62acf3ad3e0a",
   "metadata": {},
   "outputs": [
    {
     "data": {
      "text/plain": [
       "True"
      ]
     },
     "execution_count": 7,
     "metadata": {},
     "output_type": "execute_result"
    }
   ],
   "source": [
    "df.isStreaming"
   ]
  },
  {
   "cell_type": "markdown",
   "id": "ac9d68de",
   "metadata": {},
   "source": [
    "### Create a stream writer into memory and specify the query name \"stock:"
   ]
  },
  {
   "cell_type": "code",
   "execution_count": 8,
   "id": "f40bf944",
   "metadata": {},
   "outputs": [],
   "source": [
    "writer = df.writeStream\\\n",
    "    .outputMode(\"append\") \\\n",
    "    .format(\"memory\")  \\\n",
    "    .queryName(\"stock\") "
   ]
  },
  {
   "cell_type": "markdown",
   "id": "63a5f9a4",
   "metadata": {},
   "source": [
    "### Start the write stream and make sure it works (read all columns from the table)"
   ]
  },
  {
   "cell_type": "code",
   "execution_count": 9,
   "id": "0d98c6dc",
   "metadata": {},
   "outputs": [
    {
     "name": "stderr",
     "output_type": "stream",
     "text": [
      "24/09/02 17:16:41 WARN ResolveWriteToStream: Temporary checkpoint location created which is deleted normally when the query didn't fail: /tmp/temporary-36f588ab-40af-48dd-a0a5-e22200575d22. If it's required to delete it under any circumstances, please set spark.sql.streaming.forceDeleteTempCheckpointLocation to true. Important to know deleting temp checkpoint folder is best effort.\n",
      "24/09/02 17:16:41 WARN ResolveWriteToStream: spark.sql.adaptive.enabled is not supported in streaming DataFrames/Datasets and will be disabled.\n"
     ]
    }
   ],
   "source": [
    "query = writer.start()"
   ]
  },
  {
   "cell_type": "code",
   "execution_count": 10,
   "id": "d1ae3f63-3e2d-4c7f-b731-07edc3a70fe2",
   "metadata": {},
   "outputs": [
    {
     "name": "stdout",
     "output_type": "stream",
     "text": [
      "+---+----+----+----+---+-----+---------+------+\n",
      "| ID|Date|Open|High|Low|Close|Adj Close|Volume|\n",
      "+---+----+----+----+---+-----+---------+------+\n",
      "+---+----+----+----+---+-----+---------+------+\n",
      "\n"
     ]
    }
   ],
   "source": [
    "spark.sql(\"SELECT * FROM stock\").show()"
   ]
  },
  {
   "cell_type": "code",
   "execution_count": 11,
   "id": "06cb267b-e385-4949-9da3-711a9b5d0db7",
   "metadata": {},
   "outputs": [],
   "source": [
    "#query.awaitTermination()"
   ]
  },
  {
   "cell_type": "code",
   "execution_count": 22,
   "id": "6b20e2cc-2460-4311-a739-6bf1032fefa9",
   "metadata": {},
   "outputs": [
    {
     "name": "stdout",
     "output_type": "stream",
     "text": [
      "+---+----------+------------+------------+------------+------------+------------+------+\n",
      "| ID|      Date|        Open|        High|         Low|       Close|   Adj Close|Volume|\n",
      "+---+----------+------------+------------+------------+------------+------------+------+\n",
      "|240|2000-12-05|26585.300781|27367.300781|26372.099609|27011.800781|25526.091797| 91019|\n",
      "|241|2000-12-06|27011.800781|27509.400391|26798.599609|26869.699219|25391.804688|105791|\n",
      "|242|2000-12-07|27011.800781|27011.800781|26478.699219|26656.400391|25190.236328| 40656|\n",
      "|243|2000-12-08|26656.400391|27722.699219|26656.400391|27651.599609|26130.699219|149964|\n",
      "|244|2000-12-11|27687.099609|     28860.0|27651.599609|28078.099609|26533.740234|159671|\n",
      "|245|2000-12-12|28042.599609|28078.099609|27438.300781|27935.900391|26399.361328| 74560|\n",
      "|246|2000-12-13|27651.599609|     29286.5|27651.599609|28469.099609|26903.234375|270385|\n",
      "|247|2000-12-14|28469.099609|29784.099609|28291.300781|28362.400391| 26802.40625|256317|\n",
      "|248|2000-12-15|28362.400391|28895.599609|27793.800781|27935.900391|26399.361328|108886|\n",
      "|249|2000-12-18|     27580.5|     28433.5|27367.300781|28291.300781|26735.216797| 92848|\n",
      "|250|2000-12-19|27722.699219|28788.900391|27651.599609|27651.599609|26130.699219|115779|\n",
      "|251|2000-12-20|27402.800781|27793.800781|     27154.0|27722.699219|26197.890625| 99601|\n",
      "|252|2000-12-21|27367.300781|27793.800781|27082.900391|27722.699219|26197.890625|129706|\n",
      "|253|2000-12-22|27687.099609|     28007.0|27509.400391|     28007.0|26466.550781| 77233|\n",
      "|254|2000-12-26|     27971.5|31987.699219|27473.900391|     28433.5|26869.591797|131535|\n",
      "|255|2001-01-02|27367.300781|27367.300781|25945.599609|26656.400391|25190.236328| 64150|\n",
      "|256|2001-01-03|26585.300781|26656.400391|26016.699219|26656.400391|25190.236328| 37421|\n",
      "|257|2001-01-04|27367.300781|28078.099609|26905.199219|27082.900391|25593.277344|131254|\n",
      "|258|2001-01-05|26940.800781|26940.800781|26194.400391|26585.300781|25123.048828| 90316|\n",
      "|259|2001-01-08|26514.199219|27011.800781|26052.199219|26052.199219|24619.269531|102414|\n",
      "+---+----------+------------+------------+------------+------------+------------+------+\n",
      "only showing top 20 rows\n",
      "\n"
     ]
    }
   ],
   "source": [
    "# After waiting for some time\n",
    "spark.sql(\"SELECT * FROM stock\").show() #Order By ID ASC"
   ]
  },
  {
   "cell_type": "markdown",
   "id": "16908fa6",
   "metadata": {},
   "source": [
    "### Remove the first row from the data (hint: drop the rows where ALL values are null), then add a new column \"diff\", which is the difference between high and low columns"
   ]
  },
  {
   "cell_type": "code",
   "execution_count": 13,
   "id": "9f2eaa25",
   "metadata": {},
   "outputs": [],
   "source": [
    "from pyspark.sql import functions as F"
   ]
  },
  {
   "cell_type": "code",
   "execution_count": 14,
   "id": "47ea24a6-e622-4ac2-8723-f0db5dbc6b4a",
   "metadata": {},
   "outputs": [],
   "source": [
    "df_P1 = df.dropna(how='all')"
   ]
  },
  {
   "cell_type": "code",
   "execution_count": 15,
   "id": "c5e7625f-7b9d-42dd-9aa4-e0b401b8f695",
   "metadata": {},
   "outputs": [],
   "source": [
    "df_P2 = df_P1.withColumn(\"diff\", F.col(\"high\") - F.col(\"low\"))"
   ]
  },
  {
   "cell_type": "markdown",
   "id": "1f14581b",
   "metadata": {},
   "source": [
    "### Create a new write stream using the new generated dataframe and call the generate table \"modified_data\""
   ]
  },
  {
   "cell_type": "code",
   "execution_count": 16,
   "id": "9fb1be0e",
   "metadata": {},
   "outputs": [],
   "source": [
    "writer_2 = df_P2.writeStream\\\n",
    "    .outputMode(\"append\") \\\n",
    "    .format(\"memory\")  \\\n",
    "    .queryName(\"modified_data\") "
   ]
  },
  {
   "cell_type": "code",
   "execution_count": 17,
   "id": "1e90d7bb-4970-48c2-9f42-8de64ac29e95",
   "metadata": {},
   "outputs": [
    {
     "name": "stderr",
     "output_type": "stream",
     "text": [
      "24/09/02 17:16:43 WARN ResolveWriteToStream: Temporary checkpoint location created which is deleted normally when the query didn't fail: /tmp/temporary-078c4624-b1a6-4457-8a14-375c6d985011. If it's required to delete it under any circumstances, please set spark.sql.streaming.forceDeleteTempCheckpointLocation to true. Important to know deleting temp checkpoint folder is best effort.\n",
      "24/09/02 17:16:43 WARN ResolveWriteToStream: spark.sql.adaptive.enabled is not supported in streaming DataFrames/Datasets and will be disabled.\n"
     ]
    }
   ],
   "source": [
    "query_2 = writer_2.start()"
   ]
  },
  {
   "cell_type": "code",
   "execution_count": 18,
   "id": "969acbbc",
   "metadata": {},
   "outputs": [
    {
     "name": "stdout",
     "output_type": "stream",
     "text": [
      "+---+----+----+----+---+-----+---------+------+----+\n",
      "| ID|Date|Open|High|Low|Close|Adj Close|Volume|diff|\n",
      "+---+----+----+----+---+-----+---------+------+----+\n",
      "+---+----+----+----+---+-----+---------+------+----+\n",
      "\n"
     ]
    }
   ],
   "source": [
    "spark.sql(\"SELECT * FROM modified_data\").show()"
   ]
  },
  {
   "cell_type": "code",
   "execution_count": 19,
   "id": "c47d7d5a-8619-4130-8c18-d245bff95331",
   "metadata": {},
   "outputs": [],
   "source": [
    "#query_2.awaitTermination()"
   ]
  },
  {
   "cell_type": "code",
   "execution_count": 23,
   "id": "b3bcedd4",
   "metadata": {},
   "outputs": [
    {
     "name": "stdout",
     "output_type": "stream",
     "text": [
      "+---+----------+------------+------------+------------+------------+------------+------+------------------+\n",
      "| ID|      Date|        Open|        High|         Low|       Close|   Adj Close|Volume|              diff|\n",
      "+---+----------+------------+------------+------------+------------+------------+------+------------------+\n",
      "|240|2000-12-05|26585.300781|27367.300781|26372.099609|27011.800781|25526.091797| 91019|  995.201172000001|\n",
      "|241|2000-12-06|27011.800781|27509.400391|26798.599609|26869.699219|25391.804688|105791| 710.8007819999984|\n",
      "|242|2000-12-07|27011.800781|27011.800781|26478.699219|26656.400391|25190.236328| 40656| 533.1015620000035|\n",
      "|243|2000-12-08|26656.400391|27722.699219|26656.400391|27651.599609|26130.699219|149964| 1066.298827999999|\n",
      "|244|2000-12-11|27687.099609|     28860.0|27651.599609|28078.099609|26533.740234|159671|1208.4003909999992|\n",
      "|245|2000-12-12|28042.599609|28078.099609|27438.300781|27935.900391|26399.361328| 74560|  639.798827999999|\n",
      "|246|2000-12-13|27651.599609|     29286.5|27651.599609|28469.099609|26903.234375|270385|1634.9003909999992|\n",
      "|247|2000-12-14|28469.099609|29784.099609|28291.300781|28362.400391| 26802.40625|256317| 1492.798827999999|\n",
      "|248|2000-12-15|28362.400391|28895.599609|27793.800781|27935.900391|26399.361328|108886| 1101.798827999999|\n",
      "|249|2000-12-18|     27580.5|     28433.5|27367.300781|28291.300781|26735.216797| 92848|1066.1992189999983|\n",
      "|250|2000-12-19|27722.699219|28788.900391|27651.599609|27651.599609|26130.699219|115779|1137.3007819999984|\n",
      "|251|2000-12-20|27402.800781|27793.800781|     27154.0|27722.699219|26197.890625| 99601| 639.8007810000017|\n",
      "|252|2000-12-21|27367.300781|27793.800781|27082.900391|27722.699219|26197.890625|129706| 710.9003900000025|\n",
      "|253|2000-12-22|27687.099609|     28007.0|27509.400391|     28007.0|26466.550781| 77233| 497.5996090000008|\n",
      "|254|2000-12-26|     27971.5|31987.699219|27473.900391|     28433.5|26869.591797|131535| 4513.798827999999|\n",
      "|255|2001-01-02|27367.300781|27367.300781|25945.599609|26656.400391|25190.236328| 64150| 1421.701172000001|\n",
      "|256|2001-01-03|26585.300781|26656.400391|26016.699219|26656.400391|25190.236328| 37421|  639.701172000001|\n",
      "|257|2001-01-04|27367.300781|28078.099609|26905.199219|27082.900391|25593.277344|131254|1172.9003900000025|\n",
      "|258|2001-01-05|26940.800781|26940.800781|26194.400391|26585.300781|25123.048828| 90316| 746.4003900000025|\n",
      "|259|2001-01-08|26514.199219|27011.800781|26052.199219|26052.199219|24619.269531|102414| 959.6015620000035|\n",
      "+---+----------+------------+------------+------------+------------+------------+------+------------------+\n",
      "only showing top 20 rows\n",
      "\n"
     ]
    }
   ],
   "source": [
    "#after waiting a while\n",
    "spark.sql(\"SELECT * FROM modified_data\").show() #ORDER BY ID ASC"
   ]
  },
  {
   "cell_type": "markdown",
   "id": "e16c3036",
   "metadata": {},
   "source": [
    "### Write the generated data into files instead of the memory. "
   ]
  },
  {
   "cell_type": "code",
   "execution_count": 24,
   "id": "234ecf9c-c27e-4ff1-a291-fa3517b90178",
   "metadata": {},
   "outputs": [],
   "source": [
    "writer_3 = df_P2.writeStream \\\n",
    "    .outputMode(\"append\") \\\n",
    "    .format(\"csv\") \\\n",
    "    .option(\"checkpointLocation\", \"chkpnt\") \\\n",
    "    .option(\"path\", \"OutStream/\") "
   ]
  },
  {
   "cell_type": "code",
   "execution_count": 25,
   "id": "9cd88e94-e1c5-4a53-9710-836455e6c2e8",
   "metadata": {},
   "outputs": [
    {
     "name": "stderr",
     "output_type": "stream",
     "text": [
      "24/09/02 17:17:09 WARN ResolveWriteToStream: spark.sql.adaptive.enabled is not supported in streaming DataFrames/Datasets and will be disabled.\n"
     ]
    }
   ],
   "source": [
    "query_3 = writer_3.start()"
   ]
  },
  {
   "cell_type": "markdown",
   "id": "72f07e3f",
   "metadata": {},
   "source": [
    "### Stop the query. Now, try reading the generated files into a normal dataframe\n",
    "- Create a schema and use it to read the data.\n",
    "- Show the output."
   ]
  },
  {
   "cell_type": "code",
   "execution_count": 26,
   "id": "ec1321fe",
   "metadata": {},
   "outputs": [],
   "source": [
    "query_3.stop()"
   ]
  },
  {
   "cell_type": "code",
   "execution_count": 27,
   "id": "22ec7720-72d8-4be5-b3d7-bbc7126649e9",
   "metadata": {},
   "outputs": [],
   "source": [
    "newSchema = StructType([\n",
    "    StructField('ID', StringType(), True),  \n",
    "    StructField('Date', StringType(), True),\n",
    "    StructField('Open', DoubleType(), True),\n",
    "    StructField('High', DoubleType(), True),\n",
    "    StructField('Low', DoubleType(), True),\n",
    "    StructField('Close', DoubleType(), True),\n",
    "    StructField('Adj Close', DoubleType(), True),\n",
    "    StructField('Volume', IntegerType(), True),\n",
    "    StructField('diff', DoubleType(), True)\n",
    "])"
   ]
  },
  {
   "cell_type": "code",
   "execution_count": 28,
   "id": "64ed8c74-4216-4203-99e5-4baef0a4a999",
   "metadata": {},
   "outputs": [
    {
     "name": "stdout",
     "output_type": "stream",
     "text": [
      "+---+----------+------------+------------+------------+------------+------------+------+------------------+\n",
      "| ID|      Date|        Open|        High|         Low|       Close|   Adj Close|Volume|              diff|\n",
      "+---+----------+------------+------------+------------+------------+------------+------+------------------+\n",
      "|240|2000-12-05|26585.300781|27367.300781|26372.099609|27011.800781|25526.091797| 91019|  995.201172000001|\n",
      "|241|2000-12-06|27011.800781|27509.400391|26798.599609|26869.699219|25391.804688|105791| 710.8007819999984|\n",
      "|242|2000-12-07|27011.800781|27011.800781|26478.699219|26656.400391|25190.236328| 40656| 533.1015620000035|\n",
      "|243|2000-12-08|26656.400391|27722.699219|26656.400391|27651.599609|26130.699219|149964| 1066.298827999999|\n",
      "|244|2000-12-11|27687.099609|     28860.0|27651.599609|28078.099609|26533.740234|159671|1208.4003909999992|\n",
      "|245|2000-12-12|28042.599609|28078.099609|27438.300781|27935.900391|26399.361328| 74560|  639.798827999999|\n",
      "|246|2000-12-13|27651.599609|     29286.5|27651.599609|28469.099609|26903.234375|270385|1634.9003909999992|\n",
      "|247|2000-12-14|28469.099609|29784.099609|28291.300781|28362.400391| 26802.40625|256317| 1492.798827999999|\n",
      "|248|2000-12-15|28362.400391|28895.599609|27793.800781|27935.900391|26399.361328|108886| 1101.798827999999|\n",
      "|249|2000-12-18|     27580.5|     28433.5|27367.300781|28291.300781|26735.216797| 92848|1066.1992189999983|\n",
      "|250|2000-12-19|27722.699219|28788.900391|27651.599609|27651.599609|26130.699219|115779|1137.3007819999984|\n",
      "|251|2000-12-20|27402.800781|27793.800781|     27154.0|27722.699219|26197.890625| 99601| 639.8007810000017|\n",
      "|252|2000-12-21|27367.300781|27793.800781|27082.900391|27722.699219|26197.890625|129706| 710.9003900000025|\n",
      "|253|2000-12-22|27687.099609|     28007.0|27509.400391|     28007.0|26466.550781| 77233| 497.5996090000008|\n",
      "|254|2000-12-26|     27971.5|31987.699219|27473.900391|     28433.5|26869.591797|131535| 4513.798827999999|\n",
      "|255|2001-01-02|27367.300781|27367.300781|25945.599609|26656.400391|25190.236328| 64150| 1421.701172000001|\n",
      "|256|2001-01-03|26585.300781|26656.400391|26016.699219|26656.400391|25190.236328| 37421|  639.701172000001|\n",
      "|257|2001-01-04|27367.300781|28078.099609|26905.199219|27082.900391|25593.277344|131254|1172.9003900000025|\n",
      "|258|2001-01-05|26940.800781|26940.800781|26194.400391|26585.300781|25123.048828| 90316| 746.4003900000025|\n",
      "|259|2001-01-08|26514.199219|27011.800781|26052.199219|26052.199219|24619.269531|102414| 959.6015620000035|\n",
      "+---+----------+------------+------------+------------+------------+------------+------+------------------+\n",
      "only showing top 20 rows\n",
      "\n"
     ]
    }
   ],
   "source": [
    "df_2 = spark.read.schema(newSchema).csv(\"OutStream/\")\n",
    "df_2.show()"
   ]
  },
  {
   "cell_type": "markdown",
   "id": "4814d697",
   "metadata": {},
   "source": [
    "### Sort the dataframe based on the ID"
   ]
  },
  {
   "cell_type": "code",
   "execution_count": 29,
   "id": "c51d91a5",
   "metadata": {},
   "outputs": [
    {
     "name": "stdout",
     "output_type": "stream",
     "text": [
      "+---+----------+------------+------------+------------+------------+------------+------+------------------+\n",
      "| ID|      Date|        Open|        High|         Low|       Close|   Adj Close|Volume|              diff|\n",
      "+---+----------+------------+------------+------------+------------+------------+------+------------------+\n",
      "|  0|2000-01-04|22817.900391|25696.800781|22817.900391|24879.300781|23510.880859|108745|2878.9003900000025|\n",
      "|  1|2000-01-05|24523.900391|26229.900391|23670.900391|24417.300781|23074.294922|175990|            2559.0|\n",
      "| 10|2000-01-18|23457.599609|     23742.0|22746.800781|23422.099609|22133.832031| 27995| 995.1992189999983|\n",
      "|100|2000-05-23|17557.699219|17913.099609|16775.800781|17557.699219|16591.984375| 39671| 1137.298827999999|\n",
      "|101|2000-05-24|17664.300781|18481.800781|16846.900391|     17415.5|16457.609375| 57256|1634.9003900000025|\n",
      "|102|2000-05-25|18339.599609|19157.099609|17628.800781|     18695.0|17666.732422|219319| 1528.298827999999|\n",
      "|103|2000-05-26|     18695.0|20116.699219|18126.400391|18979.400391|17935.490234| 95521| 1990.298827999999|\n",
      "|104|2000-05-29|     18268.5|19334.800781|     18268.5|19192.599609|18136.962891| 59929|1066.3007810000017|\n",
      "|105|2000-05-30|19192.599609|19192.599609|19192.599609|19192.599609|18136.962891|     0|               0.0|\n",
      "|106|2000-05-31|19761.300781|     21183.0|19761.300781|     21183.0|20017.882813| 96787|1421.6992189999983|\n",
      "|107|2000-06-01|21325.099609|21325.099609|20685.400391|21289.599609|20118.623047| 37983| 639.6992180000016|\n",
      "|108|2000-06-02|21467.300781|21893.800781|20685.400391|20969.699219|19816.320313|100586|1208.4003900000025|\n",
      "|109|2000-06-05|20969.699219|23813.099609|20898.599609|22320.300781|21092.632813|112262|            2914.5|\n",
      "| 11|2000-01-19|22817.900391|23173.300781|     22036.0|     22036.0|20823.970703| 44173|1137.3007810000017|\n",
      "|110|2000-06-06|22320.300781|22320.300781|22320.300781|22320.300781|21092.632813|     0|               0.0|\n",
      "|111|2000-06-07|22746.800781|23457.599609|21822.699219|     22889.0|21630.052734|118311|1634.9003900000025|\n",
      "|112|2000-06-08|23031.099609|23457.599609|21325.099609|21325.099609|20152.169922| 75123|            2132.5|\n",
      "|113|2000-06-09|21893.800781|21893.800781|21040.800781|21396.199219|20219.359375| 61758|             853.0|\n",
      "|114|2000-06-12|     22036.0|24310.699219|21467.300781|23457.599609|22167.376953|393620|2843.3984379999965|\n",
      "|115|2000-06-13|23457.599609|23457.599609|21680.599609|     22036.0|20823.970703|139272|            1777.0|\n",
      "+---+----------+------------+------------+------------+------------+------------+------+------------------+\n",
      "only showing top 20 rows\n",
      "\n"
     ]
    }
   ],
   "source": [
    "finalDFSorted = df_2.sort('ID')\n",
    "finalDFSorted.show()"
   ]
  },
  {
   "cell_type": "code",
   "execution_count": null,
   "id": "31e8c5d6-a981-4f74-8ae3-a2c73158f273",
   "metadata": {},
   "outputs": [],
   "source": []
  }
 ],
 "metadata": {
  "kernelspec": {
   "display_name": "Python 3 (ipykernel)",
   "language": "python",
   "name": "python3"
  },
  "language_info": {
   "codemirror_mode": {
    "name": "ipython",
    "version": 3
   },
   "file_extension": ".py",
   "mimetype": "text/x-python",
   "name": "python",
   "nbconvert_exporter": "python",
   "pygments_lexer": "ipython3",
   "version": "3.12.4"
  }
 },
 "nbformat": 4,
 "nbformat_minor": 5
}
