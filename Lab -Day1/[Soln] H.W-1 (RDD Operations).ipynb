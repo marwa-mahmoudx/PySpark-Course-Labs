{
 "cells": [
  {
   "cell_type": "markdown",
   "id": "2568221b",
   "metadata": {},
   "source": [
    "### Import the required libraries then Create SparkContext"
   ]
  },
  {
   "cell_type": "code",
   "execution_count": 55,
   "id": "a5b7e05d-11c5-424d-b4dd-b88a1ee6b6f6",
   "metadata": {},
   "outputs": [],
   "source": [
    "#import findspark\n",
    "#findspark.init()\n",
    "#from pyspark import SparkContext\n",
    "from pyspark.sql import SparkSession"
   ]
  },
  {
   "cell_type": "code",
   "execution_count": 56,
   "id": "42113e5f-7615-4de6-af47-cdf326a47e3e",
   "metadata": {},
   "outputs": [],
   "source": [
    "spark = SparkSession.builder.getOrCreate()"
   ]
  },
  {
   "cell_type": "code",
   "execution_count": 57,
   "id": "025f786f-6771-42bb-bb72-5bcde8ed97b0",
   "metadata": {},
   "outputs": [],
   "source": [
    "sc = spark.sparkContext"
   ]
  },
  {
   "cell_type": "code",
   "execution_count": 58,
   "id": "9af1eb9e-e14f-4053-afec-c57fb93900fc",
   "metadata": {},
   "outputs": [
    {
     "data": {
      "text/html": [
       "\n",
       "        <div>\n",
       "            <p><b>SparkContext</b></p>\n",
       "\n",
       "            <p><a href=\"http://marwas-VM:4040\">Spark UI</a></p>\n",
       "\n",
       "            <dl>\n",
       "              <dt>Version</dt>\n",
       "                <dd><code>v3.5.2</code></dd>\n",
       "              <dt>Master</dt>\n",
       "                <dd><code>local[*]</code></dd>\n",
       "              <dt>AppName</dt>\n",
       "                <dd><code>PySparkShell</code></dd>\n",
       "            </dl>\n",
       "        </div>\n",
       "        "
      ],
      "text/plain": [
       "<SparkContext master=local[*] appName=PySparkShell>"
      ]
     },
     "execution_count": 58,
     "metadata": {},
     "output_type": "execute_result"
    }
   ],
   "source": [
    "sc"
   ]
  },
  {
   "cell_type": "markdown",
   "id": "e9a7d9c6",
   "metadata": {},
   "source": [
    "### Create and display an RDD from the following list"
   ]
  },
  {
   "cell_type": "code",
   "execution_count": 59,
   "id": "409084ef",
   "metadata": {},
   "outputs": [],
   "source": [
    "list = [('JK', 22), ('V', 24), ('Jimin',24), ('RM', 25), ('J-Hope', 25), ('Suga', 26), ('Jin', 27)]"
   ]
  },
  {
   "cell_type": "code",
   "execution_count": 60,
   "id": "5eab001d-e5a4-4486-bce2-18f0ba6a1ce2",
   "metadata": {},
   "outputs": [],
   "source": [
    "rdd0 = sc.parallelize(list)"
   ]
  },
  {
   "cell_type": "code",
   "execution_count": 61,
   "id": "7525a439-cdd9-45af-8c43-79748a69f560",
   "metadata": {},
   "outputs": [
    {
     "data": {
      "text/plain": [
       "[('JK', 22),\n",
       " ('V', 24),\n",
       " ('Jimin', 24),\n",
       " ('RM', 25),\n",
       " ('J-Hope', 25),\n",
       " ('Suga', 26),\n",
       " ('Jin', 27)]"
      ]
     },
     "execution_count": 61,
     "metadata": {},
     "output_type": "execute_result"
    }
   ],
   "source": [
    "rdd0.collect()"
   ]
  },
  {
   "cell_type": "code",
   "execution_count": 62,
   "id": "7449a591-6755-4f47-a355-c241747a6b45",
   "metadata": {},
   "outputs": [
    {
     "data": {
      "text/plain": [
       "[('JK', 22),\n",
       " ('V', 24),\n",
       " ('Jimin', 24),\n",
       " ('RM', 25),\n",
       " ('J-Hope', 25),\n",
       " ('Suga', 26),\n",
       " ('Jin', 27)]"
      ]
     },
     "execution_count": 62,
     "metadata": {},
     "output_type": "execute_result"
    }
   ],
   "source": [
    "rdd0.take(7)"
   ]
  },
  {
   "cell_type": "markdown",
   "id": "823af0d6",
   "metadata": {},
   "source": [
    "### Create a sample1.txt file to contain the text shown below."
   ]
  },
  {
   "cell_type": "code",
   "execution_count": 63,
   "id": "66668929",
   "metadata": {},
   "outputs": [
    {
     "name": "stdout",
     "output_type": "stream",
     "text": [
      "\n",
      "Utilitatis causa amicitia est quaesita.\n",
      "Lorem ipsum dolor sit amet, consectetur adipiscing elit. \n",
      "Collatio igitur ista tenihil iuvat. \n",
      "Honesta oratio, Socratica, Platonis etiam. \n",
      "Primum in nostranepotestate est, quid meminerimus? \n",
      "Duo Reges: constructio interrete.\n",
      "Quid, sietiam iucunda memoria est praeteritorum malorum? \n",
      "Si quidem, inquit, tollerem,\n"
     ]
    }
   ],
   "source": [
    "print('''\n",
    "Utilitatis causa amicitia est quaesita.\n",
    "Lorem ipsum dolor sit amet, consectetur adipiscing elit. \n",
    "Collatio igitur ista tenihil iuvat. \n",
    "Honesta oratio, Socratica, Platonis etiam. \n",
    "Primum in nostranepotestate est, quid meminerimus? \n",
    "Duo Reges: constructio interrete.\n",
    "Quid, sietiam iucunda memoria est praeteritorum malorum? \n",
    "Si quidem, inquit, tollerem,''')"
   ]
  },
  {
   "cell_type": "code",
   "execution_count": 64,
   "id": "3be250ff-e9bc-4b0f-9c1e-2af7bd98c8a8",
   "metadata": {},
   "outputs": [],
   "source": [
    "text = ''' Utilitatis causa amicitia est quaesita.\n",
    "Lorem ipsum dolor sit amet, consectetur adipiscing elit. \n",
    "Collatio igitur ista tenihil iuvat. \n",
    "Honesta oratio, Socratica, Platonis etiam. \n",
    "Primum in nostranepotestate est, quid meminerimus? \n",
    "Duo Reges: constructio interrete.\n",
    "Quid, sietiam iucunda memoria est praeteritorum malorum? \n",
    "Si quidem, inquit, tollerem,'''"
   ]
  },
  {
   "cell_type": "code",
   "execution_count": 65,
   "id": "bcf25d91-2535-49e4-ab46-ccd5bb08c3d8",
   "metadata": {},
   "outputs": [],
   "source": [
    "with open('sample1.txt', 'w') as file:\n",
    "    file.write(text)"
   ]
  },
  {
   "cell_type": "markdown",
   "id": "49249054",
   "metadata": {},
   "source": [
    "### Read sample1.txt file into RDD and displaying the first 4 elements"
   ]
  },
  {
   "cell_type": "code",
   "execution_count": 66,
   "id": "0732dc1d",
   "metadata": {},
   "outputs": [],
   "source": [
    "rddFile = sc.textFile('sample1.txt')"
   ]
  },
  {
   "cell_type": "code",
   "execution_count": 67,
   "id": "1f341ead-0169-4da0-b000-33e7db339a84",
   "metadata": {},
   "outputs": [
    {
     "data": {
      "text/plain": [
       "[' Utilitatis causa amicitia est quaesita.',\n",
       " 'Lorem ipsum dolor sit amet, consectetur adipiscing elit. ',\n",
       " 'Collatio igitur ista tenihil iuvat. ',\n",
       " 'Honesta oratio, Socratica, Platonis etiam. ',\n",
       " 'Primum in nostranepotestate est, quid meminerimus? ',\n",
       " 'Duo Reges: constructio interrete.',\n",
       " 'Quid, sietiam iucunda memoria est praeteritorum malorum? ',\n",
       " 'Si quidem, inquit, tollerem,']"
      ]
     },
     "execution_count": 67,
     "metadata": {},
     "output_type": "execute_result"
    }
   ],
   "source": [
    "rddFile.collect()"
   ]
  },
  {
   "cell_type": "code",
   "execution_count": 86,
   "id": "1e4602e7-2814-4c55-a4a1-83d3928d8d45",
   "metadata": {},
   "outputs": [
    {
     "data": {
      "text/plain": [
       "[' Utilitatis causa amicitia est quaesita.',\n",
       " 'Lorem ipsum dolor sit amet, consectetur adipiscing elit. ',\n",
       " 'Collatio igitur ista tenihil iuvat. ',\n",
       " 'Honesta oratio, Socratica, Platonis etiam. ']"
      ]
     },
     "execution_count": 86,
     "metadata": {},
     "output_type": "execute_result"
    }
   ],
   "source": [
    "rddFile.take(4)"
   ]
  },
  {
   "cell_type": "markdown",
   "id": "f0194c12",
   "metadata": {},
   "source": [
    "### Count the total number of rows in RDD"
   ]
  },
  {
   "cell_type": "code",
   "execution_count": 87,
   "id": "72124697-bfe5-4441-8146-bc7028e911f0",
   "metadata": {},
   "outputs": [
    {
     "data": {
      "text/plain": [
       "8"
      ]
     },
     "execution_count": 87,
     "metadata": {},
     "output_type": "execute_result"
    }
   ],
   "source": [
    "rddFile.count()"
   ]
  },
  {
   "cell_type": "markdown",
   "id": "e7c4dc87",
   "metadata": {},
   "source": [
    "### Create a function to convert the data into lower case and splitting it"
   ]
  },
  {
   "cell_type": "code",
   "execution_count": 88,
   "id": "16ad5300-9f0f-42cc-a0f8-c61768339f8c",
   "metadata": {},
   "outputs": [],
   "source": [
    "#rddFile_LcSpl = rddFile.map(lambda line : line.lower().split())\n",
    "rddFile_LcSpl = rddFile.map(lambda l : l.lower().split())"
   ]
  },
  {
   "cell_type": "code",
   "execution_count": 89,
   "id": "aad4c765-b0e8-4276-8583-5d4d1fae56c7",
   "metadata": {},
   "outputs": [
    {
     "data": {
      "text/plain": [
       "[['utilitatis', 'causa', 'amicitia', 'est', 'quaesita.'],\n",
       " ['lorem',\n",
       "  'ipsum',\n",
       "  'dolor',\n",
       "  'sit',\n",
       "  'amet,',\n",
       "  'consectetur',\n",
       "  'adipiscing',\n",
       "  'elit.'],\n",
       " ['collatio', 'igitur', 'ista', 'tenihil', 'iuvat.'],\n",
       " ['honesta', 'oratio,', 'socratica,', 'platonis', 'etiam.'],\n",
       " ['primum', 'in', 'nostranepotestate', 'est,', 'quid', 'meminerimus?']]"
      ]
     },
     "execution_count": 89,
     "metadata": {},
     "output_type": "execute_result"
    }
   ],
   "source": [
    "rddFile_LcSpl.take(5) "
   ]
  },
  {
   "cell_type": "markdown",
   "id": "7437d37f",
   "metadata": {},
   "source": [
    "### Remove the stopwords from the previous text. i.e. Remove it."
   ]
  },
  {
   "cell_type": "code",
   "execution_count": 90,
   "id": "358d6cd7",
   "metadata": {},
   "outputs": [],
   "source": [
    "stopwords = ['a','all','the','as','is','am','an','and',\n",
    "             'be','been','from','had','I','I’d','why','with']\n",
    "# Hint: you may need use flatMap"
   ]
  },
  {
   "cell_type": "code",
   "execution_count": 91,
   "id": "0bd36bae-0a2d-4b65-9f56-09d4da681b10",
   "metadata": {},
   "outputs": [],
   "source": [
    "rddFile_RemStp = rddFile_LcSpl.flatMap(lambda words: filter(lambda word: word not in stopwords, words))"
   ]
  },
  {
   "cell_type": "code",
   "execution_count": 92,
   "id": "af2f7235-4aa1-4d09-9f6e-3491fa1c45ab",
   "metadata": {},
   "outputs": [
    {
     "data": {
      "text/plain": [
       "['utilitatis',\n",
       " 'causa',\n",
       " 'amicitia',\n",
       " 'est',\n",
       " 'quaesita.',\n",
       " 'lorem',\n",
       " 'ipsum',\n",
       " 'dolor',\n",
       " 'sit',\n",
       " 'amet,',\n",
       " 'consectetur',\n",
       " 'adipiscing',\n",
       " 'elit.',\n",
       " 'collatio',\n",
       " 'igitur',\n",
       " 'ista',\n",
       " 'tenihil',\n",
       " 'iuvat.',\n",
       " 'honesta',\n",
       " 'oratio,',\n",
       " 'socratica,',\n",
       " 'platonis',\n",
       " 'etiam.',\n",
       " 'primum',\n",
       " 'in',\n",
       " 'nostranepotestate',\n",
       " 'est,',\n",
       " 'quid',\n",
       " 'meminerimus?',\n",
       " 'duo',\n",
       " 'reges:',\n",
       " 'constructio',\n",
       " 'interrete.',\n",
       " 'quid,',\n",
       " 'sietiam',\n",
       " 'iucunda',\n",
       " 'memoria',\n",
       " 'est',\n",
       " 'praeteritorum',\n",
       " 'malorum?',\n",
       " 'si',\n",
       " 'quidem,',\n",
       " 'inquit,',\n",
       " 'tollerem,']"
      ]
     },
     "execution_count": 92,
     "metadata": {},
     "output_type": "execute_result"
    }
   ],
   "source": [
    "rddFile_RemStp.collect()"
   ]
  },
  {
   "cell_type": "markdown",
   "id": "fb9f6058",
   "metadata": {},
   "source": [
    "### Find the words starting with ‘c’"
   ]
  },
  {
   "cell_type": "code",
   "execution_count": 75,
   "id": "2d17bf24-caa9-4ccc-9cbb-bafc9491eafe",
   "metadata": {},
   "outputs": [
    {
     "data": {
      "text/plain": [
       "['causa', 'consectetur', 'collatio', 'constructio']"
      ]
     },
     "execution_count": 75,
     "metadata": {},
     "output_type": "execute_result"
    }
   ],
   "source": [
    "rddFile_RemStp.filter(lambda word : word.startswith('c')).collect()"
   ]
  },
  {
   "cell_type": "markdown",
   "id": "eba39e2e",
   "metadata": {},
   "source": [
    "### Reduce the data by key and sum it (use the data from the following list)"
   ]
  },
  {
   "cell_type": "code",
   "execution_count": 76,
   "id": "f26dea46",
   "metadata": {},
   "outputs": [],
   "source": [
    "list = [('JK', 22), ('V', 24), ('Jimin',24), ('RM', 25)\n",
    "        , ('J-Hope', 25), ('Suga', 26), ('Jin', 27)\n",
    "       , ('J-Hope', 12), ('Suga', 25), ('Jin', 34)\n",
    "       , ('JK', 32), ('V', 44), ('Jimin',14), ('RM', 35)]\n",
    "# Hint: use reduceByKey"
   ]
  },
  {
   "cell_type": "code",
   "execution_count": 83,
   "id": "c1bf8c45-efbe-4070-b6f1-3bf2a3c608c6",
   "metadata": {},
   "outputs": [
    {
     "data": {
      "text/plain": [
       "[('JK', 22),\n",
       " ('V', 24),\n",
       " ('Jimin', 24),\n",
       " ('RM', 25),\n",
       " ('J-Hope', 25),\n",
       " ('Suga', 26),\n",
       " ('Jin', 27),\n",
       " ('J-Hope', 12),\n",
       " ('Suga', 25),\n",
       " ('Jin', 34),\n",
       " ('JK', 32),\n",
       " ('V', 44),\n",
       " ('Jimin', 14),\n",
       " ('RM', 35)]"
      ]
     },
     "execution_count": 83,
     "metadata": {},
     "output_type": "execute_result"
    }
   ],
   "source": [
    "rddList = sc.parallelize(list)\n",
    "\n",
    "rddList.collect()"
   ]
  },
  {
   "cell_type": "code",
   "execution_count": 84,
   "id": "c5363de6-97e6-4e9d-a4b6-55965ddc11b8",
   "metadata": {
    "scrolled": true
   },
   "outputs": [
    {
     "data": {
      "text/plain": [
       "[('Jimin', 38),\n",
       " ('RM', 60),\n",
       " ('J-Hope', 37),\n",
       " ('Suga', 51),\n",
       " ('JK', 54),\n",
       " ('V', 68),\n",
       " ('Jin', 61)]"
      ]
     },
     "execution_count": 84,
     "metadata": {},
     "output_type": "execute_result"
    }
   ],
   "source": [
    "rddList_KVSum = rddList.reduceByKey(lambda x, y : x + y) #.sortBy(lambda x : x[1], ascending=False)\n",
    "\n",
    "rddList_KVSum.collect()"
   ]
  },
  {
   "cell_type": "markdown",
   "id": "a4587230",
   "metadata": {},
   "source": [
    "### Creat some key value pairs RDDs"
   ]
  },
  {
   "cell_type": "code",
   "execution_count": 79,
   "id": "cfb446ee",
   "metadata": {},
   "outputs": [],
   "source": [
    "rdd1 = sc.parallelize([('a',2),('b',3)])\n",
    "rdd2 = sc.parallelize([('a',9),('b',7),('c',10)])"
   ]
  },
  {
   "cell_type": "code",
   "execution_count": 80,
   "id": "00008ff2-acda-4464-a819-56b692c16d45",
   "metadata": {},
   "outputs": [
    {
     "data": {
      "text/plain": [
       "[('a', 2), ('b', 3)]"
      ]
     },
     "execution_count": 80,
     "metadata": {},
     "output_type": "execute_result"
    }
   ],
   "source": [
    "rdd1.collect()"
   ]
  },
  {
   "cell_type": "code",
   "execution_count": 81,
   "id": "be0d6690-79e9-4850-9b5f-904d03e51d9b",
   "metadata": {},
   "outputs": [
    {
     "data": {
      "text/plain": [
       "[('a', 9), ('b', 7), ('c', 10)]"
      ]
     },
     "execution_count": 81,
     "metadata": {},
     "output_type": "execute_result"
    }
   ],
   "source": [
    "rdd2.collect()"
   ]
  },
  {
   "cell_type": "markdown",
   "id": "98ec3168",
   "metadata": {},
   "source": [
    "### Perform Join operation on the RDDs (rdd1,rdd2)"
   ]
  },
  {
   "cell_type": "code",
   "execution_count": 85,
   "id": "d28fe4c4-6d0b-4088-af04-ff7272a70e59",
   "metadata": {},
   "outputs": [
    {
     "data": {
      "text/plain": [
       "[('b', (3, 7)), ('a', (2, 9))]"
      ]
     },
     "execution_count": 85,
     "metadata": {},
     "output_type": "execute_result"
    }
   ],
   "source": [
    "rdd1.join(rdd2).collect()"
   ]
  },
  {
   "cell_type": "code",
   "execution_count": null,
   "id": "4cf8422c-f71d-4331-a0ff-b6bf4c5be33c",
   "metadata": {},
   "outputs": [],
   "source": []
  }
 ],
 "metadata": {
  "kernelspec": {
   "display_name": "Python 3 (ipykernel)",
   "language": "python",
   "name": "python3"
  },
  "language_info": {
   "codemirror_mode": {
    "name": "ipython",
    "version": 3
   },
   "file_extension": ".py",
   "mimetype": "text/x-python",
   "name": "python",
   "nbconvert_exporter": "python",
   "pygments_lexer": "ipython3",
   "version": "3.12.4"
  }
 },
 "nbformat": 4,
 "nbformat_minor": 5
}
